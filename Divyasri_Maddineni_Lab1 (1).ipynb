{
 "cells": [
  {
   "cell_type": "markdown",
   "id": "35a21dc9",
   "metadata": {},
   "source": [
    "### Python Review Assignment\n",
    "16 points\n",
    "\n",
    "Due by midnight January 25, 2022\n",
    "\n",
    "\n",
    "**To avoid erasing the sample output, please insert a new cell above the sample output**. Write your script inside the new cell and run. Verify your output with the sample output\n",
    "\n",
    "For lab submission, please rename your file using the following format\n",
    "\n",
    "`firstname_familyname_Lab1.ipynb`"
   ]
  },
  {
   "cell_type": "markdown",
   "id": "a42732b2",
   "metadata": {},
   "source": [
    "### Task 1\n",
    "Define a string `s1` with content 'Good morning John'. Count the number of characters in `s1`"
   ]
  },
  {
   "cell_type": "code",
   "execution_count": 3,
   "id": "655c39e8",
   "metadata": {},
   "outputs": [],
   "source": [
    "s1 = 'Good morning John'\n"
   ]
  },
  {
   "cell_type": "code",
   "execution_count": 4,
   "id": "1f57610a",
   "metadata": {},
   "outputs": [
    {
     "data": {
      "text/plain": [
       "17"
      ]
     },
     "execution_count": 4,
     "metadata": {},
     "output_type": "execute_result"
    }
   ],
   "source": [
    "len(s1)"
   ]
  },
  {
   "cell_type": "code",
   "execution_count": 6,
   "id": "c29b4bae",
   "metadata": {},
   "outputs": [
    {
     "data": {
      "text/plain": [
       "17"
      ]
     },
     "execution_count": 6,
     "metadata": {},
     "output_type": "execute_result"
    }
   ],
   "source": []
  },
  {
   "cell_type": "markdown",
   "id": "5d91c61d",
   "metadata": {},
   "source": [
    "### Task 2\n",
    "Check if the word 'morning' is contained in `s1`"
   ]
  },
  {
   "cell_type": "code",
   "execution_count": 5,
   "id": "11e47041",
   "metadata": {},
   "outputs": [
    {
     "data": {
      "text/plain": [
       "True"
      ]
     },
     "execution_count": 5,
     "metadata": {},
     "output_type": "execute_result"
    }
   ],
   "source": [
    "'morning' in s1"
   ]
  },
  {
   "cell_type": "code",
   "execution_count": 7,
   "id": "e22979de",
   "metadata": {},
   "outputs": [
    {
     "data": {
      "text/plain": [
       "True"
      ]
     },
     "execution_count": 7,
     "metadata": {},
     "output_type": "execute_result"
    }
   ],
   "source": []
  },
  {
   "cell_type": "markdown",
   "id": "a8e990f2",
   "metadata": {},
   "source": [
    "### Task 3\n",
    "Use a function to replace 'John' with 'David' in `s1`. Show the content of the new string"
   ]
  },
  {
   "cell_type": "code",
   "execution_count": 6,
   "id": "2ceadeb8",
   "metadata": {},
   "outputs": [
    {
     "data": {
      "text/plain": [
       "'Good morning David'"
      ]
     },
     "execution_count": 6,
     "metadata": {},
     "output_type": "execute_result"
    }
   ],
   "source": [
    "s1.replace('John','David')"
   ]
  },
  {
   "cell_type": "code",
   "execution_count": 8,
   "id": "133c3b38",
   "metadata": {},
   "outputs": [
    {
     "data": {
      "text/plain": [
       "'Good morning David'"
      ]
     },
     "execution_count": 8,
     "metadata": {},
     "output_type": "execute_result"
    }
   ],
   "source": []
  },
  {
   "cell_type": "markdown",
   "id": "fccce95f",
   "metadata": {},
   "source": [
    "### Task 4\n",
    "Use your UCM email address to create a string s2. Extract the string `ucmo.edu`"
   ]
  },
  {
   "cell_type": "code",
   "execution_count": 9,
   "id": "1a4662b4",
   "metadata": {},
   "outputs": [],
   "source": [
    "s2='DXM40800@ucmo.edu'\n"
   ]
  },
  {
   "cell_type": "code",
   "execution_count": 10,
   "id": "e86f5711",
   "metadata": {},
   "outputs": [
    {
     "data": {
      "text/plain": [
       "'ucmo.edu'"
      ]
     },
     "execution_count": 10,
     "metadata": {},
     "output_type": "execute_result"
    }
   ],
   "source": [
    "s2[9:18]"
   ]
  },
  {
   "cell_type": "code",
   "execution_count": 11,
   "id": "814db2fb",
   "metadata": {},
   "outputs": [
    {
     "data": {
      "text/plain": [
       "'ucmo.edu'"
      ]
     },
     "execution_count": 11,
     "metadata": {},
     "output_type": "execute_result"
    }
   ],
   "source": [
    "s2[-8:]"
   ]
  },
  {
   "cell_type": "code",
   "execution_count": 17,
   "id": "61c5f20a",
   "metadata": {},
   "outputs": [
    {
     "data": {
      "text/plain": [
       "'ucmo.edu'"
      ]
     },
     "execution_count": 17,
     "metadata": {},
     "output_type": "execute_result"
    }
   ],
   "source": []
  },
  {
   "cell_type": "markdown",
   "id": "c839354c",
   "metadata": {},
   "source": [
    "### Task 5\n",
    "Create a list x with integers from 1 to 30. Create a new list y which only conatins the odd numbers from list x. You are not allowed to mannually type out the lists"
   ]
  },
  {
   "cell_type": "code",
   "execution_count": 22,
   "id": "193990b5",
   "metadata": {},
   "outputs": [
    {
     "data": {
      "text/plain": [
       "[1, 3, 5, 7, 9, 11, 13, 15, 17, 19, 21, 23, 25, 27, 29]"
      ]
     },
     "execution_count": 22,
     "metadata": {},
     "output_type": "execute_result"
    }
   ],
   "source": [
    "x=list(range(31))\n",
    "y=[i for i in x if i%2!=0]\n",
    "y\n"
   ]
  },
  {
   "cell_type": "code",
   "execution_count": 11,
   "id": "885ffa3f",
   "metadata": {},
   "outputs": [
    {
     "data": {
      "text/plain": [
       "[1, 3, 5, 7, 9, 11, 13, 15, 17, 19, 21, 23, 25, 27, 29]"
      ]
     },
     "execution_count": 11,
     "metadata": {},
     "output_type": "execute_result"
    }
   ],
   "source": []
  },
  {
   "cell_type": "markdown",
   "id": "d8b8ef7b",
   "metadata": {},
   "source": [
    "### Task 6\n",
    "Create a new list z with each element is a squre of the corresponding element from list y. You are not allowed to mannually type out the list"
   ]
  },
  {
   "cell_type": "code",
   "execution_count": 24,
   "id": "36e95073",
   "metadata": {},
   "outputs": [
    {
     "data": {
      "text/plain": [
       "[1, 9, 25, 49, 81, 121, 169, 225, 289, 361, 441, 529, 625, 729, 841]"
      ]
     },
     "execution_count": 24,
     "metadata": {},
     "output_type": "execute_result"
    }
   ],
   "source": [
    "z=[i**2 for i in y]\n",
    "z"
   ]
  },
  {
   "cell_type": "code",
   "execution_count": 12,
   "id": "eb22212d",
   "metadata": {},
   "outputs": [
    {
     "data": {
      "text/plain": [
       "[1, 9, 25, 49, 81, 121, 169, 225, 289, 361, 441, 529, 625, 729, 841]"
      ]
     },
     "execution_count": 12,
     "metadata": {},
     "output_type": "execute_result"
    }
   ],
   "source": []
  },
  {
   "cell_type": "markdown",
   "id": "148610bf",
   "metadata": {},
   "source": [
    "### Task 7\n",
    "Extract `[729, 625, 529, 441, 361, 289, 225, 169]` from list z. You are not allowed to mannually type out the list"
   ]
  },
  {
   "cell_type": "code",
   "execution_count": 30,
   "id": "ac19d388",
   "metadata": {},
   "outputs": [
    {
     "data": {
      "text/plain": [
       "[729, 625, 529, 441, 361, 289, 225, 169]"
      ]
     },
     "execution_count": 30,
     "metadata": {},
     "output_type": "execute_result"
    }
   ],
   "source": [
    "z[-2:5:-1]"
   ]
  },
  {
   "cell_type": "code",
   "execution_count": 14,
   "id": "d1e261c4",
   "metadata": {},
   "outputs": [
    {
     "data": {
      "text/plain": [
       "[729, 625, 529, 441, 361, 289, 225, 169]"
      ]
     },
     "execution_count": 14,
     "metadata": {},
     "output_type": "execute_result"
    }
   ],
   "source": []
  },
  {
   "cell_type": "markdown",
   "id": "faa59cf8",
   "metadata": {},
   "source": [
    "### Task 8\n",
    "Reverse the order of z. You are not allowed to mannually type out the list"
   ]
  },
  {
   "cell_type": "code",
   "execution_count": 35,
   "id": "442059cc",
   "metadata": {},
   "outputs": [
    {
     "data": {
      "text/plain": [
       "[841, 729, 625, 529, 441, 361, 289, 225, 169, 121, 81, 49, 25, 9, 1]"
      ]
     },
     "execution_count": 35,
     "metadata": {},
     "output_type": "execute_result"
    }
   ],
   "source": [
    "z[::-1]"
   ]
  },
  {
   "cell_type": "code",
   "execution_count": 13,
   "id": "c4468042",
   "metadata": {},
   "outputs": [
    {
     "data": {
      "text/plain": [
       "[841, 729, 625, 529, 441, 361, 289, 225, 169, 121, 81, 49, 25, 9, 1]"
      ]
     },
     "execution_count": 13,
     "metadata": {},
     "output_type": "execute_result"
    }
   ],
   "source": []
  },
  {
   "cell_type": "markdown",
   "id": "a5f86fed",
   "metadata": {},
   "source": [
    "### Task 9\n",
    "Given the following list, extract the string 'Get Me'"
   ]
  },
  {
   "cell_type": "code",
   "execution_count": 40,
   "id": "99b61963",
   "metadata": {},
   "outputs": [],
   "source": [
    "lst = [1, 2, [3, 4], [5, [100, 200, ['Get Me']], 300, 11], 1, 9]\n"
   ]
  },
  {
   "cell_type": "code",
   "execution_count": 41,
   "id": "dab547c1",
   "metadata": {},
   "outputs": [
    {
     "data": {
      "text/plain": [
       "'Get Me'"
      ]
     },
     "execution_count": 41,
     "metadata": {},
     "output_type": "execute_result"
    }
   ],
   "source": [
    "lst[3][1][2][0]"
   ]
  },
  {
   "cell_type": "code",
   "execution_count": 22,
   "id": "0e8f451a",
   "metadata": {},
   "outputs": [
    {
     "data": {
      "text/plain": [
       "'Get Me'"
      ]
     },
     "execution_count": 22,
     "metadata": {},
     "output_type": "execute_result"
    }
   ],
   "source": []
  },
  {
   "cell_type": "markdown",
   "id": "4a4ba88f",
   "metadata": {},
   "source": [
    "### Task 10\n",
    "Sort the following list of strings by their lengths. You are not allowed to mannually type out the list"
   ]
  },
  {
   "cell_type": "code",
   "execution_count": 47,
   "id": "a7a3ff33",
   "metadata": {},
   "outputs": [],
   "source": [
    "x = ['ccc', 'dddd', 'bb', 'ggggggg', 'a', 'eeeee', 'ffffff']\n"
   ]
  },
  {
   "cell_type": "code",
   "execution_count": 50,
   "id": "06bada63",
   "metadata": {},
   "outputs": [
    {
     "data": {
      "text/plain": [
       "['a', 'bb', 'ccc', 'dddd', 'eeeee', 'ffffff', 'ggggggg']"
      ]
     },
     "execution_count": 50,
     "metadata": {},
     "output_type": "execute_result"
    }
   ],
   "source": [
    "x.sort(key=len)\n",
    "x"
   ]
  },
  {
   "cell_type": "code",
   "execution_count": 49,
   "id": "477f0495",
   "metadata": {},
   "outputs": [
    {
     "data": {
      "text/plain": [
       "['a', 'bb', 'ccc', 'dddd', 'eeeee', 'ffffff', 'ggggggg']"
      ]
     },
     "execution_count": 49,
     "metadata": {},
     "output_type": "execute_result"
    }
   ],
   "source": []
  },
  {
   "cell_type": "markdown",
   "id": "b51c2254",
   "metadata": {},
   "source": [
    "### Task 11\n",
    "Extract the string 'Get Me' from the following dictionary d"
   ]
  },
  {
   "cell_type": "code",
   "execution_count": 51,
   "id": "8a43df80",
   "metadata": {},
   "outputs": [],
   "source": [
    "d = {'k1':[1, 2, 3, {'tricky':['oh', 'man', 'crazy', {'target':[1, 2, 3, 'Get Me']}]}]}\n"
   ]
  },
  {
   "cell_type": "code",
   "execution_count": 52,
   "id": "a84d78e0",
   "metadata": {},
   "outputs": [
    {
     "data": {
      "text/plain": [
       "'Get Me'"
      ]
     },
     "execution_count": 52,
     "metadata": {},
     "output_type": "execute_result"
    }
   ],
   "source": [
    "d['k1'][3]['tricky'][3]['target'][3]"
   ]
  },
  {
   "cell_type": "code",
   "execution_count": 21,
   "id": "4184c435",
   "metadata": {},
   "outputs": [
    {
     "data": {
      "text/plain": [
       "'Get Me'"
      ]
     },
     "execution_count": 21,
     "metadata": {},
     "output_type": "execute_result"
    }
   ],
   "source": []
  },
  {
   "cell_type": "markdown",
   "id": "8fa3e925",
   "metadata": {},
   "source": [
    "### Task 12\n",
    "Use lambda expressions and the `filter()` function to filter out words from the following list that don't start with the letter 's'"
   ]
  },
  {
   "cell_type": "code",
   "execution_count": 53,
   "id": "4a023ebc",
   "metadata": {},
   "outputs": [],
   "source": [
    "seq = ['soup', 'apple', 'salad', 'banna', 'spaghetti', 'spinach', 'kiwi']\n"
   ]
  },
  {
   "cell_type": "code",
   "execution_count": 55,
   "id": "4cfaa59b",
   "metadata": {},
   "outputs": [
    {
     "data": {
      "text/plain": [
       "['soup', 'salad', 'spaghetti', 'spinach']"
      ]
     },
     "execution_count": 55,
     "metadata": {},
     "output_type": "execute_result"
    }
   ],
   "source": [
    "list(filter(lambda a:a[0]=='s',seq))"
   ]
  },
  {
   "cell_type": "code",
   "execution_count": 23,
   "id": "9c90a4f6",
   "metadata": {},
   "outputs": [
    {
     "data": {
      "text/plain": [
       "['soup', 'salad', 'spaghetti', 'spinach']"
      ]
     },
     "execution_count": 23,
     "metadata": {},
     "output_type": "execute_result"
    }
   ],
   "source": []
  },
  {
   "cell_type": "markdown",
   "id": "66db071e",
   "metadata": {},
   "source": [
    "### Task 13\n",
    "Count the number of unique characters in the following string s. Please ignore the white space and character case. For example, 'P' and 'p' are considered as one character"
   ]
  },
  {
   "cell_type": "code",
   "execution_count": 1,
   "id": "9a360418",
   "metadata": {},
   "outputs": [],
   "source": [
    "s = 'Python programming is fun'\n"
   ]
  },
  {
   "cell_type": "code",
   "execution_count": 3,
   "id": "17f1244a",
   "metadata": {},
   "outputs": [
    {
     "data": {
      "text/plain": [
       "14"
      ]
     },
     "execution_count": 3,
     "metadata": {},
     "output_type": "execute_result"
    }
   ],
   "source": [
    "len(set(s.replace(\" \",\"\").upper()))"
   ]
  },
  {
   "cell_type": "code",
   "execution_count": 29,
   "id": "81e5bbb0",
   "metadata": {},
   "outputs": [
    {
     "data": {
      "text/plain": [
       "14"
      ]
     },
     "execution_count": 29,
     "metadata": {},
     "output_type": "execute_result"
    }
   ],
   "source": []
  },
  {
   "cell_type": "markdown",
   "id": "00b64768",
   "metadata": {},
   "source": [
    "### Task 14\n",
    "Use lambda expressions and the `map()` function to count the length of each string in the list"
   ]
  },
  {
   "cell_type": "code",
   "execution_count": 4,
   "id": "b735d5e5",
   "metadata": {},
   "outputs": [],
   "source": [
    "seq = ['soup', 'apple', 'salad', 'banana', 'spaghetti', 'spinach', 'kiwi']\n"
   ]
  },
  {
   "cell_type": "code",
   "execution_count": 6,
   "id": "1b720f39",
   "metadata": {},
   "outputs": [
    {
     "data": {
      "text/plain": [
       "[4, 5, 5, 6, 9, 7, 4]"
      ]
     },
     "execution_count": 6,
     "metadata": {},
     "output_type": "execute_result"
    }
   ],
   "source": [
    "list(map(lambda a:len(a),seq))"
   ]
  },
  {
   "cell_type": "code",
   "execution_count": 5,
   "id": "541bf0e6",
   "metadata": {},
   "outputs": [
    {
     "data": {
      "text/plain": [
       "[4, 5, 5, 6, 9, 7, 4]"
      ]
     },
     "execution_count": 5,
     "metadata": {},
     "output_type": "execute_result"
    }
   ],
   "source": []
  },
  {
   "cell_type": "markdown",
   "id": "aeed3974",
   "metadata": {},
   "source": [
    "### Task 15\n",
    "Create a function that counts the number of times the word 'dog' occurs in a string. Ignore edge cases. "
   ]
  },
  {
   "cell_type": "code",
   "execution_count": null,
   "id": "3940870f",
   "metadata": {},
   "outputs": [],
   "source": [
    "countDog('This dog looks differently from that dog in the dog shelter!')\n"
   ]
  },
  {
   "cell_type": "code",
   "execution_count": 7,
   "id": "030b5d54",
   "metadata": {},
   "outputs": [
    {
     "name": "stdout",
     "output_type": "stream",
     "text": [
      "3\n"
     ]
    }
   ],
   "source": [
    "def countDog(a:str,b:str):\n",
    "    print(a.count(b))\n",
    "countDog('This dog looks differently from that dog in the dog shelter!','dog')    \n",
    "    "
   ]
  },
  {
   "cell_type": "code",
   "execution_count": 34,
   "id": "13bc2166",
   "metadata": {},
   "outputs": [
    {
     "data": {
      "text/plain": [
       "3"
      ]
     },
     "execution_count": 34,
     "metadata": {},
     "output_type": "execute_result"
    }
   ],
   "source": []
  },
  {
   "cell_type": "markdown",
   "id": "05cd0e30",
   "metadata": {},
   "source": [
    "### Task 16\n",
    "A police officer stopped you as you were driving a little too fast. Write a function to return one of four possible results: 'No ticket', 'Small ticket', 'Big Ticket' or 'Go To Jail'. If your speed is 65 or less, the result is \"No Ticket\". If speed is between 66 and 80 inclusive, the result is \"Small Ticket\". If speed is between 81 and 90 inclusive, the result is \"Big Ticket\". If speed is 91 or more, the result is \"Go to Jail\". Unless it is your birthday (encoded as a Boolean value in the parameters of the function) -- on your birthday, your speed can be 5 higher in all cases. Your function receives two inputs: one is an integer for speed and another is a Boolean to indicate whether today is your birthday or not."
   ]
  },
  {
   "cell_type": "code",
   "execution_count": 11,
   "id": "df89576e",
   "metadata": {},
   "outputs": [],
   "source": [
    "def ticket(speed:int, isbirthday:bool):\n",
    "    if isbirthday:\n",
    "        speed=speed-5\n",
    "    if speed<=65:\n",
    "        return print(\"No Ticket\")\n",
    "    elif speed>=66 and speed<=80:\n",
    "        return print(\"Small Ticket\")\n",
    "    elif speed>=81 and speed<=90:\n",
    "        return print(\"Big Ticket\")\n",
    "    elif speed>=91:\n",
    "        return print(\"Go To Jail\")"
   ]
  },
  {
   "cell_type": "code",
   "execution_count": 12,
   "id": "8550cfc9",
   "metadata": {},
   "outputs": [
    {
     "name": "stdout",
     "output_type": "stream",
     "text": [
      "Go To Jail\n"
     ]
    }
   ],
   "source": [
    "ticket(92, False)"
   ]
  },
  {
   "cell_type": "code",
   "execution_count": 13,
   "id": "6666f6d1",
   "metadata": {},
   "outputs": [
    {
     "name": "stdout",
     "output_type": "stream",
     "text": [
      "Big Ticket\n"
     ]
    }
   ],
   "source": [
    "ticket(92,True)"
   ]
  },
  {
   "cell_type": "code",
   "execution_count": null,
   "id": "6695c55f",
   "metadata": {},
   "outputs": [],
   "source": []
  },
  {
   "cell_type": "code",
   "execution_count": 36,
   "id": "09b8e320",
   "metadata": {},
   "outputs": [
    {
     "name": "stdout",
     "output_type": "stream",
     "text": [
      "Go To Jail\n"
     ]
    }
   ],
   "source": [
    "ticket(92, False)"
   ]
  },
  {
   "cell_type": "code",
   "execution_count": 37,
   "id": "56280f99",
   "metadata": {},
   "outputs": [
    {
     "name": "stdout",
     "output_type": "stream",
     "text": [
      "Big Ticket\n"
     ]
    }
   ],
   "source": [
    "ticket(92, True)"
   ]
  }
 ],
 "metadata": {
  "kernelspec": {
   "display_name": "Python 3 (ipykernel)",
   "language": "python",
   "name": "python3"
  },
  "language_info": {
   "codemirror_mode": {
    "name": "ipython",
    "version": 3
   },
   "file_extension": ".py",
   "mimetype": "text/x-python",
   "name": "python",
   "nbconvert_exporter": "python",
   "pygments_lexer": "ipython3",
   "version": "3.9.7"
  }
 },
 "nbformat": 4,
 "nbformat_minor": 5
}
